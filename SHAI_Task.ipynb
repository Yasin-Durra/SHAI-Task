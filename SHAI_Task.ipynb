{
 "cells": [
  {
   "cell_type": "markdown",
   "metadata": {},
   "source": [
    "<h3>Loading Data</h3>"
   ]
  },
  {
   "cell_type": "code",
   "execution_count": 124,
   "metadata": {},
   "outputs": [],
   "source": [
    "import pandas as pd\n",
    "import matplotlib.pyplot as plt\n",
    "\n",
    "# Load our dataset\n",
    "df = pd.read_csv('Salaries.csv')"
   ]
  },
  {
   "cell_type": "code",
   "execution_count": 125,
   "metadata": {},
   "outputs": [
    {
     "name": "stdout",
     "output_type": "stream",
     "text": [
      "Number of rows:  148654\n",
      "Number of columns:  13\n"
     ]
    }
   ],
   "source": [
    "num_rows = df.shape[0]\n",
    "num_cols = df.shape[1]\n",
    "\n",
    "print(\"Number of rows: \", num_rows)\n",
    "print(\"Number of columns: \", num_cols)"
   ]
  },
  {
   "cell_type": "code",
   "execution_count": 126,
   "metadata": {},
   "outputs": [
    {
     "data": {
      "text/plain": [
       "Id                    int64\n",
       "EmployeeName         object\n",
       "JobTitle             object\n",
       "BasePay             float64\n",
       "OvertimePay         float64\n",
       "OtherPay            float64\n",
       "Benefits            float64\n",
       "TotalPay            float64\n",
       "TotalPayBenefits    float64\n",
       "Year                  int64\n",
       "Notes               float64\n",
       "Agency               object\n",
       "Status              float64\n",
       "dtype: object"
      ]
     },
     "execution_count": 126,
     "metadata": {},
     "output_type": "execute_result"
    }
   ],
   "source": [
    "df.dtypes"
   ]
  },
  {
   "cell_type": "code",
   "execution_count": 127,
   "metadata": {},
   "outputs": [
    {
     "data": {
      "text/plain": [
       "Index(['Id', 'EmployeeName', 'JobTitle', 'BasePay', 'OvertimePay', 'OtherPay',\n",
       "       'Benefits', 'TotalPay', 'TotalPayBenefits', 'Year', 'Notes', 'Agency',\n",
       "       'Status'],\n",
       "      dtype='object')"
      ]
     },
     "execution_count": 127,
     "metadata": {},
     "output_type": "execute_result"
    }
   ],
   "source": [
    "df.columns"
   ]
  },
  {
   "cell_type": "markdown",
   "metadata": {},
   "source": [
    "<h4>before cleaning</h4>"
   ]
  },
  {
   "cell_type": "code",
   "execution_count": 128,
   "metadata": {},
   "outputs": [
    {
     "name": "stdout",
     "output_type": "stream",
     "text": [
      "25007.893150829852\n"
     ]
    },
    {
     "data": {
      "text/html": [
       "<div>\n",
       "<style scoped>\n",
       "    .dataframe tbody tr th:only-of-type {\n",
       "        vertical-align: middle;\n",
       "    }\n",
       "\n",
       "    .dataframe tbody tr th {\n",
       "        vertical-align: top;\n",
       "    }\n",
       "\n",
       "    .dataframe thead th {\n",
       "        text-align: right;\n",
       "    }\n",
       "</style>\n",
       "<table border=\"1\" class=\"dataframe\">\n",
       "  <thead>\n",
       "    <tr style=\"text-align: right;\">\n",
       "      <th></th>\n",
       "      <th>Id</th>\n",
       "      <th>BasePay</th>\n",
       "      <th>OvertimePay</th>\n",
       "      <th>OtherPay</th>\n",
       "      <th>Benefits</th>\n",
       "      <th>TotalPay</th>\n",
       "      <th>TotalPayBenefits</th>\n",
       "      <th>Year</th>\n",
       "      <th>Notes</th>\n",
       "      <th>Status</th>\n",
       "    </tr>\n",
       "  </thead>\n",
       "  <tbody>\n",
       "    <tr>\n",
       "      <th>count</th>\n",
       "      <td>148654.000000</td>\n",
       "      <td>148045.000000</td>\n",
       "      <td>148650.000000</td>\n",
       "      <td>148650.000000</td>\n",
       "      <td>112491.000000</td>\n",
       "      <td>148654.000000</td>\n",
       "      <td>148654.000000</td>\n",
       "      <td>148654.000000</td>\n",
       "      <td>0.0</td>\n",
       "      <td>0.0</td>\n",
       "    </tr>\n",
       "    <tr>\n",
       "      <th>mean</th>\n",
       "      <td>74327.500000</td>\n",
       "      <td>66325.448840</td>\n",
       "      <td>5066.059886</td>\n",
       "      <td>3648.767297</td>\n",
       "      <td>25007.893151</td>\n",
       "      <td>74768.321972</td>\n",
       "      <td>93692.554811</td>\n",
       "      <td>2012.522643</td>\n",
       "      <td>NaN</td>\n",
       "      <td>NaN</td>\n",
       "    </tr>\n",
       "    <tr>\n",
       "      <th>std</th>\n",
       "      <td>42912.857795</td>\n",
       "      <td>42764.635495</td>\n",
       "      <td>11454.380559</td>\n",
       "      <td>8056.601866</td>\n",
       "      <td>15402.215858</td>\n",
       "      <td>50517.005274</td>\n",
       "      <td>62793.533483</td>\n",
       "      <td>1.117538</td>\n",
       "      <td>NaN</td>\n",
       "      <td>NaN</td>\n",
       "    </tr>\n",
       "    <tr>\n",
       "      <th>min</th>\n",
       "      <td>1.000000</td>\n",
       "      <td>-166.010000</td>\n",
       "      <td>-0.010000</td>\n",
       "      <td>-7058.590000</td>\n",
       "      <td>-33.890000</td>\n",
       "      <td>-618.130000</td>\n",
       "      <td>-618.130000</td>\n",
       "      <td>2011.000000</td>\n",
       "      <td>NaN</td>\n",
       "      <td>NaN</td>\n",
       "    </tr>\n",
       "    <tr>\n",
       "      <th>25%</th>\n",
       "      <td>37164.250000</td>\n",
       "      <td>33588.200000</td>\n",
       "      <td>0.000000</td>\n",
       "      <td>0.000000</td>\n",
       "      <td>11535.395000</td>\n",
       "      <td>36168.995000</td>\n",
       "      <td>44065.650000</td>\n",
       "      <td>2012.000000</td>\n",
       "      <td>NaN</td>\n",
       "      <td>NaN</td>\n",
       "    </tr>\n",
       "    <tr>\n",
       "      <th>50%</th>\n",
       "      <td>74327.500000</td>\n",
       "      <td>65007.450000</td>\n",
       "      <td>0.000000</td>\n",
       "      <td>811.270000</td>\n",
       "      <td>28628.620000</td>\n",
       "      <td>71426.610000</td>\n",
       "      <td>92404.090000</td>\n",
       "      <td>2013.000000</td>\n",
       "      <td>NaN</td>\n",
       "      <td>NaN</td>\n",
       "    </tr>\n",
       "    <tr>\n",
       "      <th>75%</th>\n",
       "      <td>111490.750000</td>\n",
       "      <td>94691.050000</td>\n",
       "      <td>4658.175000</td>\n",
       "      <td>4236.065000</td>\n",
       "      <td>35566.855000</td>\n",
       "      <td>105839.135000</td>\n",
       "      <td>132876.450000</td>\n",
       "      <td>2014.000000</td>\n",
       "      <td>NaN</td>\n",
       "      <td>NaN</td>\n",
       "    </tr>\n",
       "    <tr>\n",
       "      <th>max</th>\n",
       "      <td>148654.000000</td>\n",
       "      <td>319275.010000</td>\n",
       "      <td>245131.880000</td>\n",
       "      <td>400184.250000</td>\n",
       "      <td>96570.660000</td>\n",
       "      <td>567595.430000</td>\n",
       "      <td>567595.430000</td>\n",
       "      <td>2014.000000</td>\n",
       "      <td>NaN</td>\n",
       "      <td>NaN</td>\n",
       "    </tr>\n",
       "  </tbody>\n",
       "</table>\n",
       "</div>"
      ],
      "text/plain": [
       "                  Id        BasePay    OvertimePay       OtherPay  \\\n",
       "count  148654.000000  148045.000000  148650.000000  148650.000000   \n",
       "mean    74327.500000   66325.448840    5066.059886    3648.767297   \n",
       "std     42912.857795   42764.635495   11454.380559    8056.601866   \n",
       "min         1.000000    -166.010000      -0.010000   -7058.590000   \n",
       "25%     37164.250000   33588.200000       0.000000       0.000000   \n",
       "50%     74327.500000   65007.450000       0.000000     811.270000   \n",
       "75%    111490.750000   94691.050000    4658.175000    4236.065000   \n",
       "max    148654.000000  319275.010000  245131.880000  400184.250000   \n",
       "\n",
       "            Benefits       TotalPay  TotalPayBenefits           Year  Notes  \\\n",
       "count  112491.000000  148654.000000     148654.000000  148654.000000    0.0   \n",
       "mean    25007.893151   74768.321972      93692.554811    2012.522643    NaN   \n",
       "std     15402.215858   50517.005274      62793.533483       1.117538    NaN   \n",
       "min       -33.890000    -618.130000       -618.130000    2011.000000    NaN   \n",
       "25%     11535.395000   36168.995000      44065.650000    2012.000000    NaN   \n",
       "50%     28628.620000   71426.610000      92404.090000    2013.000000    NaN   \n",
       "75%     35566.855000  105839.135000     132876.450000    2014.000000    NaN   \n",
       "max     96570.660000  567595.430000     567595.430000    2014.000000    NaN   \n",
       "\n",
       "       Status  \n",
       "count     0.0  \n",
       "mean      NaN  \n",
       "std       NaN  \n",
       "min       NaN  \n",
       "25%       NaN  \n",
       "50%       NaN  \n",
       "75%       NaN  \n",
       "max       NaN  "
      ]
     },
     "execution_count": 128,
     "metadata": {},
     "output_type": "execute_result"
    }
   ],
   "source": [
    "print(df['Benefits'].mean())\n",
    "df.describe()"
   ]
  },
  {
   "cell_type": "code",
   "execution_count": 129,
   "metadata": {},
   "outputs": [
    {
     "data": {
      "text/plain": [
       "Id                       0\n",
       "EmployeeName             0\n",
       "JobTitle                 0\n",
       "BasePay                609\n",
       "OvertimePay              4\n",
       "OtherPay                 4\n",
       "Benefits             36163\n",
       "TotalPay                 0\n",
       "TotalPayBenefits         0\n",
       "Year                     0\n",
       "Notes               148654\n",
       "Agency                   0\n",
       "Status              148654\n",
       "dtype: int64"
      ]
     },
     "execution_count": 129,
     "metadata": {},
     "output_type": "execute_result"
    }
   ],
   "source": [
    "df.isnull().sum()"
   ]
  },
  {
   "cell_type": "markdown",
   "metadata": {},
   "source": [
    "<h3>Cleaning Data</h3>"
   ]
  },
  {
   "cell_type": "code",
   "execution_count": 130,
   "metadata": {},
   "outputs": [],
   "source": [
    "# df['Status']=df['Status'].fillna('')\n",
    "# df['Notes']=df['Notes'].fillna('')\n",
    "df=df.drop(['Status', 'Notes'], axis=1)\n",
    "\n",
    "df['Benefits']=df['Benefits'].fillna(0)\n",
    "df['BasePay']=df['BasePay'].fillna(df['BasePay'].mean())\n",
    "df['OvertimePay']=df['OvertimePay'].fillna(df['OvertimePay'].mean())\n",
    "df['OtherPay']=df['OtherPay'].fillna(df['OtherPay'].mean())\n"
   ]
  },
  {
   "cell_type": "markdown",
   "metadata": {},
   "source": [
    "<h4>after cleaning</h4>"
   ]
  },
  {
   "cell_type": "code",
   "execution_count": 131,
   "metadata": {},
   "outputs": [
    {
     "name": "stdout",
     "output_type": "stream",
     "text": [
      "18924.23283887417\n"
     ]
    },
    {
     "data": {
      "text/html": [
       "<div>\n",
       "<style scoped>\n",
       "    .dataframe tbody tr th:only-of-type {\n",
       "        vertical-align: middle;\n",
       "    }\n",
       "\n",
       "    .dataframe tbody tr th {\n",
       "        vertical-align: top;\n",
       "    }\n",
       "\n",
       "    .dataframe thead th {\n",
       "        text-align: right;\n",
       "    }\n",
       "</style>\n",
       "<table border=\"1\" class=\"dataframe\">\n",
       "  <thead>\n",
       "    <tr style=\"text-align: right;\">\n",
       "      <th></th>\n",
       "      <th>Id</th>\n",
       "      <th>BasePay</th>\n",
       "      <th>OvertimePay</th>\n",
       "      <th>OtherPay</th>\n",
       "      <th>Benefits</th>\n",
       "      <th>TotalPay</th>\n",
       "      <th>TotalPayBenefits</th>\n",
       "      <th>Year</th>\n",
       "    </tr>\n",
       "  </thead>\n",
       "  <tbody>\n",
       "    <tr>\n",
       "      <th>count</th>\n",
       "      <td>148654.000000</td>\n",
       "      <td>148654.000000</td>\n",
       "      <td>148654.000000</td>\n",
       "      <td>148654.000000</td>\n",
       "      <td>148654.000000</td>\n",
       "      <td>148654.000000</td>\n",
       "      <td>148654.000000</td>\n",
       "      <td>148654.000000</td>\n",
       "    </tr>\n",
       "    <tr>\n",
       "      <th>mean</th>\n",
       "      <td>74327.500000</td>\n",
       "      <td>66325.448840</td>\n",
       "      <td>5066.059886</td>\n",
       "      <td>3648.767297</td>\n",
       "      <td>18924.232839</td>\n",
       "      <td>74768.321972</td>\n",
       "      <td>93692.554811</td>\n",
       "      <td>2012.522643</td>\n",
       "    </tr>\n",
       "    <tr>\n",
       "      <th>std</th>\n",
       "      <td>42912.857795</td>\n",
       "      <td>42676.946745</td>\n",
       "      <td>11454.226449</td>\n",
       "      <td>8056.493470</td>\n",
       "      <td>17165.279495</td>\n",
       "      <td>50517.005274</td>\n",
       "      <td>62793.533483</td>\n",
       "      <td>1.117538</td>\n",
       "    </tr>\n",
       "    <tr>\n",
       "      <th>min</th>\n",
       "      <td>1.000000</td>\n",
       "      <td>-166.010000</td>\n",
       "      <td>-0.010000</td>\n",
       "      <td>-7058.590000</td>\n",
       "      <td>-33.890000</td>\n",
       "      <td>-618.130000</td>\n",
       "      <td>-618.130000</td>\n",
       "      <td>2011.000000</td>\n",
       "    </tr>\n",
       "    <tr>\n",
       "      <th>25%</th>\n",
       "      <td>37164.250000</td>\n",
       "      <td>33847.017500</td>\n",
       "      <td>0.000000</td>\n",
       "      <td>0.000000</td>\n",
       "      <td>0.000000</td>\n",
       "      <td>36168.995000</td>\n",
       "      <td>44065.650000</td>\n",
       "      <td>2012.000000</td>\n",
       "    </tr>\n",
       "    <tr>\n",
       "      <th>50%</th>\n",
       "      <td>74327.500000</td>\n",
       "      <td>65092.190000</td>\n",
       "      <td>0.000000</td>\n",
       "      <td>811.350000</td>\n",
       "      <td>23214.020000</td>\n",
       "      <td>71426.610000</td>\n",
       "      <td>92404.090000</td>\n",
       "      <td>2013.000000</td>\n",
       "    </tr>\n",
       "    <tr>\n",
       "      <th>75%</th>\n",
       "      <td>111490.750000</td>\n",
       "      <td>94605.740000</td>\n",
       "      <td>4658.667500</td>\n",
       "      <td>4235.907500</td>\n",
       "      <td>33468.980000</td>\n",
       "      <td>105839.135000</td>\n",
       "      <td>132876.450000</td>\n",
       "      <td>2014.000000</td>\n",
       "    </tr>\n",
       "    <tr>\n",
       "      <th>max</th>\n",
       "      <td>148654.000000</td>\n",
       "      <td>319275.010000</td>\n",
       "      <td>245131.880000</td>\n",
       "      <td>400184.250000</td>\n",
       "      <td>96570.660000</td>\n",
       "      <td>567595.430000</td>\n",
       "      <td>567595.430000</td>\n",
       "      <td>2014.000000</td>\n",
       "    </tr>\n",
       "  </tbody>\n",
       "</table>\n",
       "</div>"
      ],
      "text/plain": [
       "                  Id        BasePay    OvertimePay       OtherPay  \\\n",
       "count  148654.000000  148654.000000  148654.000000  148654.000000   \n",
       "mean    74327.500000   66325.448840    5066.059886    3648.767297   \n",
       "std     42912.857795   42676.946745   11454.226449    8056.493470   \n",
       "min         1.000000    -166.010000      -0.010000   -7058.590000   \n",
       "25%     37164.250000   33847.017500       0.000000       0.000000   \n",
       "50%     74327.500000   65092.190000       0.000000     811.350000   \n",
       "75%    111490.750000   94605.740000    4658.667500    4235.907500   \n",
       "max    148654.000000  319275.010000  245131.880000  400184.250000   \n",
       "\n",
       "            Benefits       TotalPay  TotalPayBenefits           Year  \n",
       "count  148654.000000  148654.000000     148654.000000  148654.000000  \n",
       "mean    18924.232839   74768.321972      93692.554811    2012.522643  \n",
       "std     17165.279495   50517.005274      62793.533483       1.117538  \n",
       "min       -33.890000    -618.130000       -618.130000    2011.000000  \n",
       "25%         0.000000   36168.995000      44065.650000    2012.000000  \n",
       "50%     23214.020000   71426.610000      92404.090000    2013.000000  \n",
       "75%     33468.980000  105839.135000     132876.450000    2014.000000  \n",
       "max     96570.660000  567595.430000     567595.430000    2014.000000  "
      ]
     },
     "execution_count": 131,
     "metadata": {},
     "output_type": "execute_result"
    }
   ],
   "source": [
    "\n",
    "print(df['Benefits'].mean())\n",
    "\n",
    "df.describe()"
   ]
  },
  {
   "cell_type": "code",
   "execution_count": 132,
   "metadata": {},
   "outputs": [
    {
     "data": {
      "text/plain": [
       "Id                  0\n",
       "EmployeeName        0\n",
       "JobTitle            0\n",
       "BasePay             0\n",
       "OvertimePay         0\n",
       "OtherPay            0\n",
       "Benefits            0\n",
       "TotalPay            0\n",
       "TotalPayBenefits    0\n",
       "Year                0\n",
       "Agency              0\n",
       "dtype: int64"
      ]
     },
     "execution_count": 132,
     "metadata": {},
     "output_type": "execute_result"
    }
   ],
   "source": [
    "df.isnull().sum()"
   ]
  },
  {
   "cell_type": "code",
   "execution_count": 133,
   "metadata": {},
   "outputs": [
    {
     "name": "stdout",
     "output_type": "stream",
     "text": [
      "Mean Salary:  74768.32197169267\n"
     ]
    }
   ],
   "source": [
    "mean_salary = df['TotalPay'].mean()\n",
    "print('Mean Salary: ', mean_salary)"
   ]
  },
  {
   "cell_type": "code",
   "execution_count": 134,
   "metadata": {},
   "outputs": [
    {
     "name": "stdout",
     "output_type": "stream",
     "text": [
      "Median Salary:  71426.60999999999\n"
     ]
    }
   ],
   "source": [
    "median_salary = df['TotalPay'].median()\n",
    "print('Median Salary: ', median_salary)"
   ]
  },
  {
   "cell_type": "code",
   "execution_count": 135,
   "metadata": {},
   "outputs": [
    {
     "name": "stdout",
     "output_type": "stream",
     "text": [
      "Mode Salary:  0    0.0\n",
      "Name: TotalPay, dtype: float64\n"
     ]
    }
   ],
   "source": [
    "mode_salary = df['TotalPay'].mode()\n",
    "print('Mode Salary: ', mode_salary)"
   ]
  },
  {
   "cell_type": "code",
   "execution_count": 136,
   "metadata": {},
   "outputs": [
    {
     "name": "stdout",
     "output_type": "stream",
     "text": [
      "Minimum Salary:  -618.13\n",
      "Maximum Salary:  567595.43\n",
      "Salary Range:  568213.56\n"
     ]
    }
   ],
   "source": [
    "min_salary = df['TotalPay'].min()\n",
    "max_salary = df['TotalPay'].max()\n",
    "salary_range = max_salary - min_salary\n",
    "print('Minimum Salary: ', min_salary)\n",
    "print('Maximum Salary: ', max_salary)\n",
    "print('Salary Range: ', salary_range)"
   ]
  },
  {
   "cell_type": "code",
   "execution_count": 137,
   "metadata": {},
   "outputs": [
    {
     "name": "stdout",
     "output_type": "stream",
     "text": [
      "Standard Deviation:  50517.005273949944\n"
     ]
    }
   ],
   "source": [
    "std_dev = df['TotalPay'].std()\n",
    "print('Standard Deviation: ', std_dev)"
   ]
  },
  {
   "cell_type": "code",
   "execution_count": 138,
   "metadata": {},
   "outputs": [
    {
     "data": {
      "text/plain": [
       "count    148654.000000\n",
       "mean      74768.321972\n",
       "std       50517.005274\n",
       "min        -618.130000\n",
       "25%       36168.995000\n",
       "50%       71426.610000\n",
       "75%      105839.135000\n",
       "max      567595.430000\n",
       "Name: TotalPay, dtype: float64"
      ]
     },
     "execution_count": 138,
     "metadata": {},
     "output_type": "execute_result"
    }
   ],
   "source": [
    "df['TotalPay'].describe()"
   ]
  },
  {
   "cell_type": "code",
   "execution_count": 139,
   "metadata": {},
   "outputs": [
    {
     "data": {
      "image/png": "[encoded data removed]",
      "text/plain": [
       "<Figure size 640x480 with 1 Axes>"
      ]
     },
     "metadata": {},
     "output_type": "display_data"
    }
   ],
   "source": [
    "plt.hist(df['TotalPay'], edgecolor='black')\n",
    "plt.title('Distribution of Salaries')\n",
    "plt.xlabel('Total Salary')\n",
    "plt.ylabel('Frequency')\n",
    "plt.show()"
   ]
  },
  {
   "cell_type": "code",
   "execution_count": 140,
   "metadata": {},
   "outputs": [
    {
     "data": {
      "image/png": "[encoded data removed]",
      "text/plain": [
       "<Figure size 640x480 with 1 Axes>"
      ]
     },
     "metadata": {},
     "output_type": "display_data"
    }
   ],
   "source": [
    "import re\n",
    "\n",
    "departments = {}\n",
    "\n",
    "for title in df['JobTitle']:\n",
    "    match = re.search(r'\\((.*?)\\)', title)\n",
    "    if match:\n",
    "        match = match.group(1).lower()\n",
    "        if(match in departments):\n",
    "            departments[match]+=1\n",
    "        else:\n",
    "            departments[match]=1\n",
    "\n",
    "plt.pie(departments.values(), labels=departments.keys(),autopct='%1.1f%%',radius=1.5)\n",
    "plt.show()"
   ]
  },
  {
   "cell_type": "markdown",
   "metadata": {},
   "source": [
    "<h3>Grouped Analysis</h3>"
   ]
  },
  {
   "cell_type": "code",
   "execution_count": 141,
   "metadata": {},
   "outputs": [
    {
     "data": {
      "text/html": [
       "<div>\n",
       "<style scoped>\n",
       "    .dataframe tbody tr th:only-of-type {\n",
       "        vertical-align: middle;\n",
       "    }\n",
       "\n",
       "    .dataframe tbody tr th {\n",
       "        vertical-align: top;\n",
       "    }\n",
       "\n",
       "    .dataframe thead th {\n",
       "        text-align: right;\n",
       "    }\n",
       "</style>\n",
       "<table border=\"1\" class=\"dataframe\">\n",
       "  <thead>\n",
       "    <tr style=\"text-align: right;\">\n",
       "      <th></th>\n",
       "      <th>mean</th>\n",
       "      <th>min</th>\n",
       "      <th>max</th>\n",
       "    </tr>\n",
       "    <tr>\n",
       "      <th>JobTitle</th>\n",
       "      <th></th>\n",
       "      <th></th>\n",
       "      <th></th>\n",
       "    </tr>\n",
       "  </thead>\n",
       "  <tbody>\n",
       "    <tr>\n",
       "      <th>ACCOUNT CLERK</th>\n",
       "      <td>44035.664337</td>\n",
       "      <td>614.00</td>\n",
       "      <td>60838.20</td>\n",
       "    </tr>\n",
       "    <tr>\n",
       "      <th>ACCOUNTANT</th>\n",
       "      <td>47429.268000</td>\n",
       "      <td>1148.40</td>\n",
       "      <td>65392.01</td>\n",
       "    </tr>\n",
       "    <tr>\n",
       "      <th>ACCOUNTANT INTERN</th>\n",
       "      <td>29031.742917</td>\n",
       "      <td>2981.53</td>\n",
       "      <td>58799.53</td>\n",
       "    </tr>\n",
       "    <tr>\n",
       "      <th>ACPO,JuvP, Juv Prob (SFERS)</th>\n",
       "      <td>62290.780000</td>\n",
       "      <td>62290.78</td>\n",
       "      <td>62290.78</td>\n",
       "    </tr>\n",
       "    <tr>\n",
       "      <th>ACUPUNCTURIST</th>\n",
       "      <td>67594.400000</td>\n",
       "      <td>67594.40</td>\n",
       "      <td>67594.40</td>\n",
       "    </tr>\n",
       "    <tr>\n",
       "      <th>...</th>\n",
       "      <td>...</td>\n",
       "      <td>...</td>\n",
       "      <td>...</td>\n",
       "    </tr>\n",
       "    <tr>\n",
       "      <th>X-RAY LABORATORY AIDE</th>\n",
       "      <td>52705.880385</td>\n",
       "      <td>5343.69</td>\n",
       "      <td>85077.40</td>\n",
       "    </tr>\n",
       "    <tr>\n",
       "      <th>X-Ray Laboratory Aide</th>\n",
       "      <td>50823.942700</td>\n",
       "      <td>1007.00</td>\n",
       "      <td>99812.97</td>\n",
       "    </tr>\n",
       "    <tr>\n",
       "      <th>YOUTH COMMISSION ADVISOR, BOARD OF SUPERVISORS</th>\n",
       "      <td>53632.870000</td>\n",
       "      <td>53632.87</td>\n",
       "      <td>53632.87</td>\n",
       "    </tr>\n",
       "    <tr>\n",
       "      <th>Youth Comm Advisor</th>\n",
       "      <td>41414.307500</td>\n",
       "      <td>19212.71</td>\n",
       "      <td>57544.73</td>\n",
       "    </tr>\n",
       "    <tr>\n",
       "      <th>ZOO CURATOR</th>\n",
       "      <td>66686.560000</td>\n",
       "      <td>66686.56</td>\n",
       "      <td>66686.56</td>\n",
       "    </tr>\n",
       "  </tbody>\n",
       "</table>\n",
       "<p>2159 rows × 3 columns</p>\n",
       "</div>"
      ],
      "text/plain": [
       "                                                        mean       min  \\\n",
       "JobTitle                                                                 \n",
       "ACCOUNT CLERK                                   44035.664337    614.00   \n",
       "ACCOUNTANT                                      47429.268000   1148.40   \n",
       "ACCOUNTANT INTERN                               29031.742917   2981.53   \n",
       "ACPO,JuvP, Juv Prob (SFERS)                     62290.780000  62290.78   \n",
       "ACUPUNCTURIST                                   67594.400000  67594.40   \n",
       "...                                                      ...       ...   \n",
       "X-RAY LABORATORY AIDE                           52705.880385   5343.69   \n",
       "X-Ray Laboratory Aide                           50823.942700   1007.00   \n",
       "YOUTH COMMISSION ADVISOR, BOARD OF SUPERVISORS  53632.870000  53632.87   \n",
       "Youth Comm Advisor                              41414.307500  19212.71   \n",
       "ZOO CURATOR                                     66686.560000  66686.56   \n",
       "\n",
       "                                                     max  \n",
       "JobTitle                                                  \n",
       "ACCOUNT CLERK                                   60838.20  \n",
       "ACCOUNTANT                                      65392.01  \n",
       "ACCOUNTANT INTERN                               58799.53  \n",
       "ACPO,JuvP, Juv Prob (SFERS)                     62290.78  \n",
       "ACUPUNCTURIST                                   67594.40  \n",
       "...                                                  ...  \n",
       "X-RAY LABORATORY AIDE                           85077.40  \n",
       "X-Ray Laboratory Aide                           99812.97  \n",
       "YOUTH COMMISSION ADVISOR, BOARD OF SUPERVISORS  53632.87  \n",
       "Youth Comm Advisor                              57544.73  \n",
       "ZOO CURATOR                                     66686.56  \n",
       "\n",
       "[2159 rows x 3 columns]"
      ]
     },
     "execution_count": 141,
     "metadata": {},
     "output_type": "execute_result"
    }
   ],
   "source": [
    "grouped = df.groupby('JobTitle')\n",
    "agg_grouped= grouped['TotalPay'].agg(['mean', 'min', 'max'])\n",
    "\n",
    "agg_grouped"
   ]
  },
  {
   "cell_type": "code",
   "execution_count": 142,
   "metadata": {},
   "outputs": [
    {
     "data": {
      "text/html": [
       "<div>\n",
       "<style scoped>\n",
       "    .dataframe tbody tr th:only-of-type {\n",
       "        vertical-align: middle;\n",
       "    }\n",
       "\n",
       "    .dataframe tbody tr th {\n",
       "        vertical-align: top;\n",
       "    }\n",
       "\n",
       "    .dataframe thead th {\n",
       "        text-align: right;\n",
       "    }\n",
       "</style>\n",
       "<table border=\"1\" class=\"dataframe\">\n",
       "  <thead>\n",
       "    <tr style=\"text-align: right;\">\n",
       "      <th></th>\n",
       "      <th></th>\n",
       "      <th>mean</th>\n",
       "      <th>min</th>\n",
       "      <th>max</th>\n",
       "    </tr>\n",
       "    <tr>\n",
       "      <th>Year</th>\n",
       "      <th>JobTitle</th>\n",
       "      <th></th>\n",
       "      <th></th>\n",
       "      <th></th>\n",
       "    </tr>\n",
       "  </thead>\n",
       "  <tbody>\n",
       "    <tr>\n",
       "      <th rowspan=\"5\" valign=\"top\">2011</th>\n",
       "      <th>ACCOUNT CLERK</th>\n",
       "      <td>44035.664337</td>\n",
       "      <td>614.00</td>\n",
       "      <td>60838.20</td>\n",
       "    </tr>\n",
       "    <tr>\n",
       "      <th>ACCOUNTANT</th>\n",
       "      <td>47429.268000</td>\n",
       "      <td>1148.40</td>\n",
       "      <td>65392.01</td>\n",
       "    </tr>\n",
       "    <tr>\n",
       "      <th>ACCOUNTANT INTERN</th>\n",
       "      <td>29031.742917</td>\n",
       "      <td>2981.53</td>\n",
       "      <td>58799.53</td>\n",
       "    </tr>\n",
       "    <tr>\n",
       "      <th>ACUPUNCTURIST</th>\n",
       "      <td>67594.400000</td>\n",
       "      <td>67594.40</td>\n",
       "      <td>67594.40</td>\n",
       "    </tr>\n",
       "    <tr>\n",
       "      <th>ADMINISTRATIVE ANALYST</th>\n",
       "      <td>63954.867527</td>\n",
       "      <td>2388.24</td>\n",
       "      <td>79754.03</td>\n",
       "    </tr>\n",
       "    <tr>\n",
       "      <th>...</th>\n",
       "      <th>...</th>\n",
       "      <td>...</td>\n",
       "      <td>...</td>\n",
       "      <td>...</td>\n",
       "    </tr>\n",
       "    <tr>\n",
       "      <th rowspan=\"5\" valign=\"top\">2014</th>\n",
       "      <th>Wire Rope Cable Maint Sprv</th>\n",
       "      <td>190575.900000</td>\n",
       "      <td>190575.90</td>\n",
       "      <td>190575.90</td>\n",
       "    </tr>\n",
       "    <tr>\n",
       "      <th>Worker's Comp Supervisor 1</th>\n",
       "      <td>56689.446667</td>\n",
       "      <td>56.64</td>\n",
       "      <td>108144.01</td>\n",
       "    </tr>\n",
       "    <tr>\n",
       "      <th>Worker's Compensation Adjuster</th>\n",
       "      <td>70636.455385</td>\n",
       "      <td>1837.39</td>\n",
       "      <td>106050.66</td>\n",
       "    </tr>\n",
       "    <tr>\n",
       "      <th>X-Ray Laboratory Aide</th>\n",
       "      <td>51211.566857</td>\n",
       "      <td>11341.85</td>\n",
       "      <td>99812.97</td>\n",
       "    </tr>\n",
       "    <tr>\n",
       "      <th>Youth Comm Advisor</th>\n",
       "      <td>36465.910000</td>\n",
       "      <td>36465.91</td>\n",
       "      <td>36465.91</td>\n",
       "    </tr>\n",
       "  </tbody>\n",
       "</table>\n",
       "<p>4137 rows × 3 columns</p>\n",
       "</div>"
      ],
      "text/plain": [
       "                                              mean        min        max\n",
       "Year JobTitle                                                           \n",
       "2011 ACCOUNT CLERK                    44035.664337     614.00   60838.20\n",
       "     ACCOUNTANT                       47429.268000    1148.40   65392.01\n",
       "     ACCOUNTANT INTERN                29031.742917    2981.53   58799.53\n",
       "     ACUPUNCTURIST                    67594.400000   67594.40   67594.40\n",
       "     ADMINISTRATIVE ANALYST           63954.867527    2388.24   79754.03\n",
       "...                                            ...        ...        ...\n",
       "2014 Wire Rope Cable Maint Sprv      190575.900000  190575.90  190575.90\n",
       "     Worker's Comp Supervisor 1       56689.446667      56.64  108144.01\n",
       "     Worker's Compensation Adjuster   70636.455385    1837.39  106050.66\n",
       "     X-Ray Laboratory Aide            51211.566857   11341.85   99812.97\n",
       "     Youth Comm Advisor               36465.910000   36465.91   36465.91\n",
       "\n",
       "[4137 rows x 3 columns]"
      ]
     },
     "execution_count": 142,
     "metadata": {},
     "output_type": "execute_result"
    }
   ],
   "source": [
    "grouped = df.groupby(['Year','JobTitle'])\n",
    "agg_grouped = grouped['TotalPay'].agg(['mean', 'min', 'max'])\n",
    "agg_grouped"
   ]
  },
  {
   "cell_type": "markdown",
   "metadata": {},
   "source": [
    "<h3>Correlation Analysis</h3>"
   ]
  },
  {
   "cell_type": "code",
   "execution_count": 143,
   "metadata": {},
   "outputs": [
    {
     "name": "stdout",
     "output_type": "stream",
     "text": [
      "Correlation coefficient between TotalPay and OvertimePay: 0.5048439903996068\n",
      "Correlation coefficient between TotalPay and BasePay: 0.9505142922626444\n"
     ]
    },
    {
     "data": {
      "image/png": "[encoded data removed]",
      "text/plain": [
       "<Figure size 1600x480 with 2 Axes>"
      ]
     },
     "metadata": {},
     "output_type": "display_data"
    }
   ],
   "source": [
    "correlation = df['TotalPay'].corr(df['OvertimePay'])\n",
    "correlation1 = df['TotalPay'].corr(df['BasePay'])\n",
    "\n",
    "print(f\"Correlation coefficient between TotalPay and OvertimePay: {correlation}\")\n",
    "print(f\"Correlation coefficient between TotalPay and BasePay: {correlation1}\")\n",
    "\n",
    "fig, axs = plt.subplots(1,2)\n",
    "axs[0].scatter(df['TotalPay'], df['OvertimePay'])\n",
    "axs[1].scatter(df['TotalPay'], df['BasePay'])\n",
    "fig.set_figwidth(16)\n",
    "\n",
    "axs[0].set_xlabel(\"Total Pay\")\n",
    "axs[0].set_ylabel(\"Overtime Pay\")\n",
    "axs[0].set_title(\"Scatter Plot of Total Pay vs Overtime Pay\")\n",
    "\n",
    "axs[1].set_xlabel(\"Total Pay\")\n",
    "axs[1].set_ylabel(\"Base Pay\")\n",
    "axs[1].set_title(\"Scatter Plot of Total Pay vs Base Pay\")\n",
    "\n",
    "axs[0].grid(True)\n",
    "axs[1].grid(True)\n",
    "\n",
    "plt.show()\n"
   ]
  },
  {
   "cell_type": "markdown",
   "metadata": {},
   "source": [
    "<h1>Summary of Insights</h1>\n",
    "    <ul>\n",
    "        <li>The dataset contains 148654 rows and 13 columns.</li>\n",
    "        <li>The dataset contains columns with data type\n",
    "            <ol>\n",
    "                <li>Id                   :   int64</li>\n",
    "                <li>EmployeeName         :  object</li>\n",
    "                <li>JobTitle             :  object</li>\n",
    "                <li>BasePay              : float64</li>\n",
    "                <li>OvertimePay          : float64</li>\n",
    "                <li>OtherPay             : float64</li>\n",
    "                <li>Benefits             : float64</li>\n",
    "                <li>TotalPay             : float64</li>\n",
    "                <li>TotalPayBenefits     : float64</li>\n",
    "                <li>Year                 :   int64</li>\n",
    "                <li>Notes                : float64</li>\n",
    "                <li>Agency               :  object</li>\n",
    "                <li>Status               : float64</li>\n",
    "            </ol>\n",
    "        </li>\n",
    "        <li>The missing values in dataset is\n",
    "            <ol>\n",
    "                <li>BasePay             :     609</li>\n",
    "                <li>OvertimePay         :       4</li>\n",
    "                <li>OtherPay            :       4</li>\n",
    "                <li>Benefits            :   36163</li>\n",
    "                <li>Notes               :  148654</li>\n",
    "                <li>Status              :  148654</li>\n",
    "            </ol>\n",
    "        </li>\n",
    "        <li>The Descriptive Statistics\n",
    "            <ol>\n",
    "                <li>The min            :      -618.13</li>\n",
    "                <li>The max            :    567595.43</li>\n",
    "                <li>The range          :    568213.56</li>\n",
    "                <li>The mean           : 74768.321972</li>\n",
    "                <li>The std            : 50517.005274</li>\n",
    "                <li>The median         :71426.6099999</li>\n",
    "            </ol>\n",
    "        </li>\n",
    "        <li>I dropped the Status,Notes because they useless and all values are missing</li>\n",
    "        <li>I used the mean to fill missing values to unchanged the min max mean and range,\n",
    "        <br>this approach used when the data is approximately normally distributed and a few values is missing</li>\n",
    "    </ul>\n"
   ]
  }
 ],
 "metadata": {
  "kernelspec": {
   "display_name": "base",
   "language": "python",
   "name": "python3"
  },
  "language_info": {
   "codemirror_mode": {
    "name": "ipython",
    "version": 3
   },
   "file_extension": ".py",
   "mimetype": "text/x-python",
   "name": "python",
   "nbconvert_exporter": "python",
   "pygments_lexer": "ipython3",
   "version": "3.11.5"
  }
 },
 "nbformat": 4,
 "nbformat_minor": 2
}
